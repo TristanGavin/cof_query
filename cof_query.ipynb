{
 "cells": [
  {
   "cell_type": "markdown",
   "id": "159b49d0",
   "metadata": {},
   "source": [
    "# AiiDA COF data query\n",
    "\n",
    "\n",
    "## AiiDA profile setup\n",
    "The first step is to download the required AiiDA packages onto your machine and then set up a profile. installation and profile setup guide: [https://aiida.readthedocs.io/projects/aiida-core/en/latest/intro/install_system.html#intro-get-started-system-wide-install](https://aiida.readthedocs.io/projects/aiida-core/en/latest/intro/install_system.html#intro-get-started-system-wide-install)\n",
    "\n",
    "## downloading the data\n",
    "The COF database can be downloaded from MaterialCloud: [https://archive.materialscloud.org/record/2021.100](https://archive.materialscloud.org/record/2021.100). Check at the bottom of the webpage to make sure that you are on the latest version. The data to be downloaded is in the .aiida file located in the Files section in the middle of the page.\n",
    "\n",
    "Once you download the .aiida file you must import the archive into your profile. To do so, enter this command from the command line (you must be sourced into your aiida virtual enviornment)\n",
    "\n",
    "$ verdi archive import /path/to/filename.aiida\n",
    "\n",
    "This process will take a pretty long time, especially if you do not have a solid state drive. It will also take up ~40gb of space so make sure that you clear enough disk space. \n",
    "\n",
    "after this import is complete we can test if it worked by doing a simple query"
   ]
  },
  {
   "cell_type": "code",
   "execution_count": 49,
   "id": "50046282",
   "metadata": {},
   "outputs": [
    {
     "data": {
      "text/plain": [
       "[<Dict: uuid: 00006e52-015c-410e-aebb-4ffacb137c5a (pk: 5)>]"
      ]
     },
     "execution_count": 49,
     "metadata": {},
     "output_type": "execute_result"
    }
   ],
   "source": [
    "from aiida import load_profile\n",
    "from aiida.orm import Dict\n",
    "\n",
    "load_profile()\n",
    "\n",
    "qb = QueryBuilder()\n",
    "qb.append(Dict)\n",
    "qb.first()"
   ]
  },
  {
   "cell_type": "markdown",
   "id": "8983b8f8",
   "metadata": {},
   "source": [
    "If this returns an empty array then you failed to import the data."
   ]
  },
  {
   "cell_type": "markdown",
   "id": "d38de30f",
   "metadata": {},
   "source": [
    "# Querying Data\n",
    "\n",
    "I will run through a quick example on how to query data, but more information (maybe too much) can be found here [https://aiida.readthedocs.io/projects/aiida-core/en/latest/howto/query.html#how-to-query](https://aiida.readthedocs.io/projects/aiida-core/en/latest/howto/query.html#how-to-query)(basic querying) and here [https://aiida.readthedocs.io/projects/aiida-core/en/latest/topics/database.html](https://aiida.readthedocs.io/projects/aiida-core/en/latest/topics/database.html) (advanced querying)"
   ]
  },
  {
   "cell_type": "markdown",
   "id": "f9db1316",
   "metadata": {},
   "source": [
    "### imports needed"
   ]
  },
  {
   "cell_type": "code",
   "execution_count": 2,
   "id": "c6f5b15e",
   "metadata": {},
   "outputs": [
    {
     "data": {
      "text/plain": [
       "<aiida.manage.configuration.profile.Profile at 0x7f2412c512e0>"
      ]
     },
     "execution_count": 2,
     "metadata": {},
     "output_type": "execute_result"
    }
   ],
   "source": [
    "# imports\n",
    "from aiida import load_profile\n",
    "from aiida.orm import QueryBuilder\n",
    "from aiida.orm import load_node\n",
    "from aiida.orm import Node, Group, Data, Dict, CifData\n",
    "import pandas as pd\n",
    "import numpy as np\n",
    "# load AiiDA profile\n",
    "load_profile()"
   ]
  },
  {
   "cell_type": "markdown",
   "id": "6cdb05e8",
   "metadata": {},
   "source": [
    "### Query Builder and Groups\n",
    "the QueryBuilder() is the main tool we will use to fetch data from the database. Once we have a QueryBuilder() object we can append nodes from our database onto it that we are interested in retrieving.\n",
    "\n",
    "In the COF data base each Group contains the data and caluculation nodes for an individual COF (currnetly there are 648 Groups for 648 cofs). We will start by doing a simple query of all COFs (Groups)"
   ]
  },
  {
   "cell_type": "code",
   "execution_count": 68,
   "id": "36b29e09",
   "metadata": {},
   "outputs": [
    {
     "data": {
      "text/plain": [
       "[[<Group: \"discover_curated_cofs/16032N2\" [type core], of user daniele.ongari@gmail.com>],\n",
       " [<Group: \"discover_curated_cofs/20150N2\" [type core], of user daniele.ongari@gmail.com>],\n",
       " [<Group: \"discover_curated_cofs/16142N2\" [type core], of user daniele.ongari@gmail.com>],\n",
       " [<Group: \"discover_curated_cofs/16370N2\" [type core], of user daniele.ongari@gmail.com>],\n",
       " [<Group: \"discover_curated_cofs/21130N2\" [type core], of user daniele.ongari@gmail.com>],\n",
       " [<Group: \"discover_curated_cofs/19142N2\" [type core], of user daniele.ongari@gmail.com>],\n",
       " [<Group: \"discover_curated_cofs/19250N3\" [type core], of user daniele.ongari@gmail.com>],\n",
       " [<Group: \"discover_curated_cofs/20142N2\" [type core], of user daniele.ongari@gmail.com>],\n",
       " [<Group: \"discover_curated_cofs/16410C2\" [type core], of user daniele.ongari@gmail.com>],\n",
       " [<Group: \"discover_curated_cofs/16240C2\" [type core], of user daniele.ongari@gmail.com>]]"
      ]
     },
     "execution_count": 68,
     "metadata": {},
     "output_type": "execute_result"
    }
   ],
   "source": [
    "# make QueryBuilder() object\n",
    "qb = QueryBuilder()\n",
    "\n",
    "# append Group(all COFs)\n",
    "# filter out core.imports (these are other Groups attached to my profile that have no useful COF information)\n",
    "qb.append(Group, filters={'type_string': {'!==': 'core.import'}})\n",
    "\n",
    "#iterate over all nodes (cof groups) in our query\n",
    "cof_list = []\n",
    "for x in qb.iterall():\n",
    "    cof_list.append(x)\n",
    "cof_list[0:10] # show just the first 10"
   ]
  },
  {
   "cell_type": "code",
   "execution_count": 64,
   "id": "32e3753b",
   "metadata": {},
   "outputs": [
    {
     "name": "stdout",
     "output_type": "stream",
     "text": [
      "648 total COFs\n"
     ]
    }
   ],
   "source": [
    "print(len(cof_list), \"total COFs\")"
   ]
  },
  {
   "cell_type": "markdown",
   "id": "f20a2dbd",
   "metadata": {},
   "source": [
    "Above we queried for all Cofs in the curated Cof Database. The code that represents each cof can be understood like this:\n",
    "![](https://raw.githubusercontent.com/danieleongari/CURATED-COFs/master/images/figure1.gif)\n",
    "\n",
    "Next we will explore some of the different properties that we might want to query from a COF and then we will iterate over every COF and filter the properties into a DataFrame"
   ]
  },
  {
   "cell_type": "markdown",
   "id": "3482e568",
   "metadata": {},
   "source": [
    "## querying for .cif file name\n",
    "not really a cof property but you might want it, and its a good first example.\n",
    "\n",
    "First we Query all COFs and give it a 'group' tag for later reference.\n",
    "\n",
    "In the next append we are querying all CifData nodes that are members of the Group query we did above (with_group='group')\n",
    "\n",
    "finally the project='attributes' argument specifies that we want to return the attributes of the CifData nodes. Other things we could project from these Nodes are 'description', 'id', 'extras', 'label'... The best way I could find to see the possible things to project is to put in an invalid value (project=\"invalid\"). The error will return all possible values that can be projected."
   ]
  },
  {
   "cell_type": "code",
   "execution_count": 53,
   "id": "24f1aac5",
   "metadata": {},
   "outputs": [
    {
     "data": {
      "text/plain": [
       "[[{'md5': '4daedb3510d03703d51342d2713f6a29',\n",
       "   'filename': '20610N2.cif',\n",
       "   'formulae': [None],\n",
       "   'scan_type': 'standard',\n",
       "   'parse_policy': 'eager',\n",
       "   'spacegroup_numbers': [None]}],\n",
       " [{'md5': '571897abbb7701c08cf087e326ac99ab',\n",
       "   'filename': 'tmpDog3zJ.cif',\n",
       "   'formulae': None,\n",
       "   'scan_type': 'flex',\n",
       "   'parse_policy': 'lazy',\n",
       "   'spacegroup_numbers': None}],\n",
       " [{'md5': 'db94a7abf5c4e44e232a70b980e86c29',\n",
       "   'filename': '21052N2.cif',\n",
       "   'formulae': [None],\n",
       "   'scan_type': 'standard',\n",
       "   'parse_policy': 'eager',\n",
       "   'spacegroup_numbers': [None]}]]"
      ]
     },
     "execution_count": 53,
     "metadata": {},
     "output_type": "execute_result"
    }
   ],
   "source": [
    "qb = QueryBuilder()\n",
    "qb.append(Group, tag='group')  # tag group gives us a reference to use later\n",
    "qb.append(CifData, project='attributes', with_group='group')   # all possible attributes we could query on\n",
    "qb.limit(3) # just want .cif for first 3 COFs\n",
    "qb.all()\n"
   ]
  },
  {
   "cell_type": "markdown",
   "id": "857d21b1",
   "metadata": {},
   "source": [
    "For some reason this is returning two cif files for the first COF (20610N2.cif and tmpDog3zJ.cif). But we only want one, so we add the filter {'extras.tag4': 'orig_cif'}  \n",
    "\n",
    "also we will just want the file name so we will use the project='attributes.filename' "
   ]
  },
  {
   "cell_type": "code",
   "execution_count": 54,
   "id": "65e213e7",
   "metadata": {},
   "outputs": [
    {
     "data": {
      "text/plain": [
       "[['20610N2.cif'], ['21052N2.cif'], ['20473N2.cif']]"
      ]
     },
     "execution_count": 54,
     "metadata": {},
     "output_type": "execute_result"
    }
   ],
   "source": [
    "# using the 'extras.tag4': 'orig_cif' filter to just get one set of cif data.\n",
    "# getting the cif filename with project='atributes.filename'.\n",
    "\n",
    "qb = QueryBuilder()\n",
    "qb.append(Group, tag='group')  \n",
    "qb.append(CifData, project='attributes.filename', with_group='group', filters={'extras.tag4': 'orig_cif'})\n",
    "qb.limit(3)\n",
    "qb.all()"
   ]
  },
  {
   "cell_type": "markdown",
   "id": "7a76b4b8",
   "metadata": {},
   "source": [
    "should return the file names for 3 COFs \n",
    "\n",
    "these files can be found here https://github.com/danieleongari/CURATED-COFs/tree/master/cifs"
   ]
  },
  {
   "cell_type": "markdown",
   "id": "9fa0b92b",
   "metadata": {},
   "source": [
    "## querying for COF property data"
   ]
  },
  {
   "cell_type": "markdown",
   "id": "848fef82",
   "metadata": {},
   "source": [
    "This .cif file name will be good to add to our data frame in case someone wants to look more closely at the files but more important is the actual properties themselves! Below we will show how to query for COF properties that we want. It will be very similar to what we just did only a few more filters."
   ]
  },
  {
   "cell_type": "code",
   "execution_count": 66,
   "id": "15addee6",
   "metadata": {},
   "outputs": [
    {
     "name": "stdout",
     "output_type": "stream",
     "text": [
      "['appl_ch4storage', 'orig_cif', 'orig_zeopp', 'opt_cif_ddec', 'isot_o2', 'isot_n2', 'appl_pecoal', 'kh_h2o', 'isot_ch4', 'appl_h2sh2osel', 'appl_o2storage', 'kh_kr', 'dftopt', 'opt_zeopp', 'kh_h2s', 'appl_h2storage', 'kh_xe', 'isotmt_h2', 'appl_xekrsel', 'isot_co2', 'appl_peng']\n"
     ]
    }
   ],
   "source": [
    "qb = QueryBuilder()\n",
    "qb.append(Group, tag='group')\n",
    "\n",
    "# extras.tag4 will be used to filter Nodes that just have this tag in them\n",
    "# for example we can use this to filter select only the o2_isotherm data if for every COF if thats what we want.\n",
    "qb.append(Node, with_group='group', project='extras.tag4') \n",
    "tag4 = qb.all()\n",
    "\n",
    "# remove duplicates \n",
    "tag4list = []\n",
    "for element in tag4:\n",
    "    tag4list.append(element[0])\n",
    "tag4_no_dup = list(dict.fromkeys(tag4list))\n",
    "\n",
    "print(tag4_no_dup)\n",
    "\n",
    "#list of all possible properties"
   ]
  },
  {
   "cell_type": "markdown",
   "id": "3ad337d5",
   "metadata": {},
   "source": [
    "Say we want to gather h2 isotherm data, so we will use the filter 'extras.tag4': 'isotmt_h2' and project='attributes'"
   ]
  },
  {
   "cell_type": "code",
   "execution_count": 67,
   "id": "e980ba6b",
   "metadata": {},
   "outputs": [
    {
     "data": {
      "text/plain": [
       "[{'Density': 0.529438,\n",
       "  'Input_ha': 'DEF',\n",
       "  'POAV_A^3': 5640.19,\n",
       "  'isotherm': [{'pressure': [1.0, 5.0, 25, 50, 75, 100],\n",
       "    'pressure_unit': 'bar',\n",
       "    'loading_absolute_dev': [0.05443631561662,\n",
       "     0.11904642877507,\n",
       "     0.14654898125614,\n",
       "     0.26874135955225,\n",
       "     0.15836664597714,\n",
       "     0.12787611781091],\n",
       "    'loading_absolute_unit': 'mol/kg',\n",
       "    'loading_absolute_average': [8.3756258759282,\n",
       "     16.257456585865,\n",
       "     27.086870821482,\n",
       "     32.843406010691,\n",
       "     36.557411232671,\n",
       "     38.954840526852],\n",
       "    'enthalpy_of_adsorption_dev': [0.27347804577919,\n",
       "     0.42885499654952,\n",
       "     0.32330705145793,\n",
       "     0.04489093977867,\n",
       "     0.2423067604533,\n",
       "     0.26538314501176],\n",
       "    'enthalpy_of_adsorption_unit': 'kJ/mol',\n",
       "    'enthalpy_of_adsorption_average': [-4.9238424251495,\n",
       "     -4.0401085031553,\n",
       "     -2.8370616846674,\n",
       "     -2.8232868557365,\n",
       "     -2.8302521762989,\n",
       "     -2.8983591496013]},\n",
       "   {'pressure': [1.0, 5.0, 25, 50, 75, 100],\n",
       "    'pressure_unit': 'bar',\n",
       "    'loading_absolute_dev': [0.0022550762026401,\n",
       "     0.025165673536627,\n",
       "     0.033994119593292,\n",
       "     0.11937171197185,\n",
       "     0.09685110831935,\n",
       "     0.060170014658037],\n",
       "    'loading_absolute_unit': 'mol/kg',\n",
       "    'loading_absolute_average': [0.18487181363337,\n",
       "     0.89730143718531,\n",
       "     3.9613339672262,\n",
       "     7.1187527208793,\n",
       "     9.7630444011372,\n",
       "     12.072402206377],\n",
       "    'enthalpy_of_adsorption_dev': [0.029721009702926,\n",
       "     0.1697450217422,\n",
       "     0.061651883631405,\n",
       "     0.23427287919982,\n",
       "     0.085132307334148,\n",
       "     0.11392978473972],\n",
       "    'enthalpy_of_adsorption_unit': 'kJ/mol',\n",
       "    'enthalpy_of_adsorption_average': [-4.3457346204052,\n",
       "     -4.321696307567,\n",
       "     -4.2074237775727,\n",
       "     -4.1144973518579,\n",
       "     -4.0212543962485,\n",
       "     -4.0565468559028]},\n",
       "   {'pressure': [1.0, 5.0, 25, 50, 75, 100],\n",
       "    'pressure_unit': 'bar',\n",
       "    'loading_absolute_dev': [0.003114778144632,\n",
       "     0.017851414112447,\n",
       "     0.023896646991262,\n",
       "     0.045908966560745,\n",
       "     0.036306410357737,\n",
       "     0.088595988596561],\n",
       "    'loading_absolute_unit': 'mol/kg',\n",
       "    'loading_absolute_average': [0.0753917991057,\n",
       "     0.37228660461754,\n",
       "     1.7715752905401,\n",
       "     3.3778746517383,\n",
       "     4.9347311418842,\n",
       "     6.3233551615468],\n",
       "    'enthalpy_of_adsorption_dev': [0.14697611267699,\n",
       "     0.050253132456994,\n",
       "     0.062788689065709,\n",
       "     0.10449466630083,\n",
       "     0.05146120908267,\n",
       "     0.091789778254471],\n",
       "    'enthalpy_of_adsorption_unit': 'kJ/mol',\n",
       "    'enthalpy_of_adsorption_average': [-4.5519410008896,\n",
       "     -4.5585615225362,\n",
       "     -4.518633359108,\n",
       "     -4.5496270983513,\n",
       "     -4.5517828606587,\n",
       "     -4.5034489868882]}],\n",
       "  'PONAV_A^3': 0.0,\n",
       "  'is_porous': True,\n",
       "  'Input_block': [1.48, 100],\n",
       "  'Input_volpo': [1.48, 1.48, 100000],\n",
       "  'POAV_cm^3/g': 1.19548,\n",
       "  'temperature': [77, 198, 298],\n",
       "  'Density_unit': 'g/cm^3',\n",
       "  'PONAV_cm^3/g': 0.0,\n",
       "  'is_kh_enough': [True, True, True],\n",
       "  'POAV_A^3_unit': 'A^3',\n",
       "  'PONAV_A^3_unit': 'A^3',\n",
       "  'Unitcell_volume': 8911.24,\n",
       "  'POAV_cm^3/g_unit': 'cm^3/g',\n",
       "  'temperature_unit': 'K',\n",
       "  'PONAV_cm^3/g_unit': 'cm^3/g',\n",
       "  'POAV_Volume_fraction': 0.63293,\n",
       "  'Unitcell_volume_unit': 'A^3',\n",
       "  'PONAV_Volume_fraction': 0.0,\n",
       "  'henry_coefficient_dev': [3.69811e-06, 5.60197e-10, 4.49361e-10],\n",
       "  'henry_coefficient_unit': 'mol/kg/Pa',\n",
       "  'Input_structure_filename': 'tmpAbzZZ4.cif',\n",
       "  'POAV_Volume_fraction_unit': None,\n",
       "  'henry_coefficient_average': [0.000253122, 1.83771e-06, 7.51125e-07],\n",
       "  'Number_of_blocking_spheres': 0,\n",
       "  'PONAV_Volume_fraction_unit': None,\n",
       "  'adsorption_energy_widom_dev': [0.0281236668, 0.006294019, 0.005959833],\n",
       "  'Estimated_saturation_loading': 42.319992,\n",
       "  'adsorption_energy_widom_unit': 'kJ/mol',\n",
       "  'adsorption_energy_widom_average': [-5.3253338613,\n",
       "   -2.7132424893,\n",
       "   -2.0662888468],\n",
       "  'Estimated_saturation_loading_unit': 'mol/kg',\n",
       "  'conversion_factor_molec_uc_to_mg_g': 0.703938367,\n",
       "  'conversion_factor_molec_uc_to_mol_kg': 0.3519691835,\n",
       "  'conversion_factor_molec_uc_to_cm3stp_cm3': 4.1766658417}]"
      ]
     },
     "execution_count": 67,
     "metadata": {},
     "output_type": "execute_result"
    }
   ],
   "source": [
    "qb = QueryBuilder()\n",
    "qb.append(Group, tag='group')\n",
    "qb.append(Node, with_group='group', project='attributes',\n",
    "         filters={'extras.tag4': 'isotmt_h2', 'attributes.is_porous': True})\n",
    "qb.first()\n",
    "\n",
    "# this should return all of the h2 isotherm data for the fist cof."
   ]
  },
  {
   "cell_type": "markdown",
   "id": "579ff3c7",
   "metadata": {},
   "source": [
    "## Querying properties for all COFs\n",
    "\n",
    "Now we have all the QueryBuilder tools required to put together a query for a property for every COF in the database. For these next two examples we will query the o2 isotherm data and the co2 henry coeficient data for all COFs in the database.\n",
    "\n",
    "###  o2 5bar (example)"
   ]
  },
  {
   "cell_type": "code",
   "execution_count": 39,
   "id": "e0ebe317",
   "metadata": {},
   "outputs": [
    {
     "name": "stdout",
     "output_type": "stream",
     "text": [
      "57\n"
     ]
    }
   ],
   "source": [
    "# set up a dataframe to store data\n",
    "o2_df = pd.DataFrame({'cof': [], 'o2_5bar': []})\n",
    "\n",
    "sum = 0 # used to count missing cofs\n",
    "\n",
    "# get a list of uuids for all cofs (used to iterate over every cof one at a time)\n",
    "qb = QueryBuilder()\n",
    "qb.append(Group, tag='group', project='uuid', filters={'type_string': {'!==': 'core.import'}})\n",
    "\n",
    "# iterate over all COFs using uuid.\n",
    "for cof_uuid in qb.iterall():\n",
    "    # for each uuid make a new query on that cof\n",
    "    qb = QueryBuilder()\n",
    "    qb.append(Group, tag='group', filters={'uuid': cof_uuid[0]})\n",
    "    \n",
    "    # get (project) the .cif filename\n",
    "    qb.append(CifData, with_group='group', project='attributes.filename', filters={'extras.tag4': 'orig_cif'})\n",
    "    \n",
    "    # get (project) the O2 isotherm data\n",
    "    qb.append(Node, with_group='group', project='attributes', filters={\n",
    "        'extras.tag4': 'isot_o2',\n",
    "        'attributes.is_porous': True})\n",
    "    \n",
    "    res = qb.all()\n",
    "    try:\n",
    "        # res[0][0] has file name. \n",
    "        # [res[0][1]['isotherm']['loading_absolute_average'][1]] has o2_5bar data.\n",
    "        d = {'cof': [res[0][0]], 'o2_5bar': [res[0][1]['isotherm']['loading_absolute_average'][1]]}\n",
    "        temp = pd.DataFrame(data=d)\n",
    "        o2_df = o2_df.append(temp)\n",
    "    except:\n",
    "        sum += 1 \n",
    "print(sum, \"missing cofs\")"
   ]
  },
  {
   "cell_type": "markdown",
   "id": "9b8de926",
   "metadata": {},
   "source": [
    "for some reason there are 57 missing values for o2_5bar..."
   ]
  },
  {
   "cell_type": "code",
   "execution_count": 34,
   "id": "c2378c83",
   "metadata": {},
   "outputs": [
    {
     "data": {
      "text/html": [
       "<div>\n",
       "<style scoped>\n",
       "    .dataframe tbody tr th:only-of-type {\n",
       "        vertical-align: middle;\n",
       "    }\n",
       "\n",
       "    .dataframe tbody tr th {\n",
       "        vertical-align: top;\n",
       "    }\n",
       "\n",
       "    .dataframe thead th {\n",
       "        text-align: right;\n",
       "    }\n",
       "</style>\n",
       "<table border=\"1\" class=\"dataframe\">\n",
       "  <thead>\n",
       "    <tr style=\"text-align: right;\">\n",
       "      <th></th>\n",
       "      <th>cof</th>\n",
       "      <th>o2_5bar</th>\n",
       "    </tr>\n",
       "  </thead>\n",
       "  <tbody>\n",
       "    <tr>\n",
       "      <th>0</th>\n",
       "      <td>16032N2.cif</td>\n",
       "      <td>1.254577</td>\n",
       "    </tr>\n",
       "    <tr>\n",
       "      <th>0</th>\n",
       "      <td>20150N2.cif</td>\n",
       "      <td>1.382063</td>\n",
       "    </tr>\n",
       "    <tr>\n",
       "      <th>0</th>\n",
       "      <td>16142N2.cif</td>\n",
       "      <td>1.476718</td>\n",
       "    </tr>\n",
       "    <tr>\n",
       "      <th>0</th>\n",
       "      <td>16370N2.cif</td>\n",
       "      <td>2.175336</td>\n",
       "    </tr>\n",
       "    <tr>\n",
       "      <th>0</th>\n",
       "      <td>21130N2.cif</td>\n",
       "      <td>1.416540</td>\n",
       "    </tr>\n",
       "    <tr>\n",
       "      <th>...</th>\n",
       "      <td>...</td>\n",
       "      <td>...</td>\n",
       "    </tr>\n",
       "    <tr>\n",
       "      <th>0</th>\n",
       "      <td>20050N2.cif</td>\n",
       "      <td>1.275172</td>\n",
       "    </tr>\n",
       "    <tr>\n",
       "      <th>0</th>\n",
       "      <td>14080N2.cif</td>\n",
       "      <td>1.215057</td>\n",
       "    </tr>\n",
       "    <tr>\n",
       "      <th>0</th>\n",
       "      <td>20120N2.cif</td>\n",
       "      <td>2.030808</td>\n",
       "    </tr>\n",
       "    <tr>\n",
       "      <th>0</th>\n",
       "      <td>21271N3.cif</td>\n",
       "      <td>2.145694</td>\n",
       "    </tr>\n",
       "    <tr>\n",
       "      <th>0</th>\n",
       "      <td>15252N2.cif</td>\n",
       "      <td>1.348566</td>\n",
       "    </tr>\n",
       "  </tbody>\n",
       "</table>\n",
       "<p>591 rows × 2 columns</p>\n",
       "</div>"
      ],
      "text/plain": [
       "            cof   o2_5bar\n",
       "0   16032N2.cif  1.254577\n",
       "0   20150N2.cif  1.382063\n",
       "0   16142N2.cif  1.476718\n",
       "0   16370N2.cif  2.175336\n",
       "0   21130N2.cif  1.416540\n",
       "..          ...       ...\n",
       "0   20050N2.cif  1.275172\n",
       "0   14080N2.cif  1.215057\n",
       "0   20120N2.cif  2.030808\n",
       "0   21271N3.cif  2.145694\n",
       "0   15252N2.cif  1.348566\n",
       "\n",
       "[591 rows x 2 columns]"
      ]
     },
     "execution_count": 34,
     "metadata": {},
     "output_type": "execute_result"
    }
   ],
   "source": [
    "o2_df"
   ]
  },
  {
   "cell_type": "markdown",
   "id": "ba68a69f",
   "metadata": {},
   "source": [
    "### co2 Henry"
   ]
  },
  {
   "cell_type": "code",
   "execution_count": 44,
   "id": "35a452b1",
   "metadata": {},
   "outputs": [
    {
     "name": "stdout",
     "output_type": "stream",
     "text": [
      "56\n"
     ]
    }
   ],
   "source": [
    "# set up the dataframe\n",
    "co2_df = pd.DataFrame({'cof': [], 'co2_henry': []})\n",
    "\n",
    "sum = 0\n",
    "\n",
    "qb = QueryBuilder()\n",
    "qb.append(Group, tag='group', project='uuid', filters={'type_string': {'!==': 'core.import'}})\n",
    "\n",
    "# iterate over all COFs using uuid\n",
    "for cof_uuid in qb.iterall():\n",
    "    # for each uuid make a new query\n",
    "    qb = QueryBuilder()\n",
    "    qb.append(Group, tag='group', filters={'uuid': cof_uuid[0]})\n",
    "    \n",
    "    # get the .cif filename\n",
    "    qb.append(CifData, with_group='group', project='attributes.filename', filters={'extras.tag4': 'orig_cif'})\n",
    "    \n",
    "    # get the co2 isotherm data by filtering nodes with 'isot_co2'\n",
    "    qb.append(Node, with_group='group', project='attributes', filters={\n",
    "        'extras.tag4': 'isot_co2',\n",
    "        'attributes.is_porous': True})\n",
    "    \n",
    "    res = qb.all()\n",
    "    try:\n",
    "        d = {'cof': [res[0][0]], 'co2_henry': [res[0][1]['henry_coefficient_average']]}\n",
    "        temp = pd.DataFrame(data=d)\n",
    "        co2_df = co2_df.append(temp)\n",
    "    except:\n",
    "        sum += 1 \n",
    "print(sum, \"missing cofs\")"
   ]
  },
  {
   "cell_type": "code",
   "execution_count": 45,
   "id": "b5eaa2b3",
   "metadata": {},
   "outputs": [
    {
     "data": {
      "text/html": [
       "<div>\n",
       "<style scoped>\n",
       "    .dataframe tbody tr th:only-of-type {\n",
       "        vertical-align: middle;\n",
       "    }\n",
       "\n",
       "    .dataframe tbody tr th {\n",
       "        vertical-align: top;\n",
       "    }\n",
       "\n",
       "    .dataframe thead th {\n",
       "        text-align: right;\n",
       "    }\n",
       "</style>\n",
       "<table border=\"1\" class=\"dataframe\">\n",
       "  <thead>\n",
       "    <tr style=\"text-align: right;\">\n",
       "      <th></th>\n",
       "      <th>cof</th>\n",
       "      <th>co2_henry</th>\n",
       "    </tr>\n",
       "  </thead>\n",
       "  <tbody>\n",
       "    <tr>\n",
       "      <th>0</th>\n",
       "      <td>16032N2.cif</td>\n",
       "      <td>0.000022</td>\n",
       "    </tr>\n",
       "    <tr>\n",
       "      <th>0</th>\n",
       "      <td>20150N2.cif</td>\n",
       "      <td>0.000019</td>\n",
       "    </tr>\n",
       "    <tr>\n",
       "      <th>0</th>\n",
       "      <td>16142N2.cif</td>\n",
       "      <td>0.000009</td>\n",
       "    </tr>\n",
       "    <tr>\n",
       "      <th>0</th>\n",
       "      <td>16370N2.cif</td>\n",
       "      <td>0.000092</td>\n",
       "    </tr>\n",
       "    <tr>\n",
       "      <th>0</th>\n",
       "      <td>21130N2.cif</td>\n",
       "      <td>0.000017</td>\n",
       "    </tr>\n",
       "    <tr>\n",
       "      <th>...</th>\n",
       "      <td>...</td>\n",
       "      <td>...</td>\n",
       "    </tr>\n",
       "    <tr>\n",
       "      <th>0</th>\n",
       "      <td>20050N2.cif</td>\n",
       "      <td>0.000011</td>\n",
       "    </tr>\n",
       "    <tr>\n",
       "      <th>0</th>\n",
       "      <td>14080N2.cif</td>\n",
       "      <td>0.000006</td>\n",
       "    </tr>\n",
       "    <tr>\n",
       "      <th>0</th>\n",
       "      <td>20120N2.cif</td>\n",
       "      <td>0.000051</td>\n",
       "    </tr>\n",
       "    <tr>\n",
       "      <th>0</th>\n",
       "      <td>21271N3.cif</td>\n",
       "      <td>0.000072</td>\n",
       "    </tr>\n",
       "    <tr>\n",
       "      <th>0</th>\n",
       "      <td>15252N2.cif</td>\n",
       "      <td>0.000010</td>\n",
       "    </tr>\n",
       "  </tbody>\n",
       "</table>\n",
       "<p>592 rows × 2 columns</p>\n",
       "</div>"
      ],
      "text/plain": [
       "            cof  co2_henry\n",
       "0   16032N2.cif   0.000022\n",
       "0   20150N2.cif   0.000019\n",
       "0   16142N2.cif   0.000009\n",
       "0   16370N2.cif   0.000092\n",
       "0   21130N2.cif   0.000017\n",
       "..          ...        ...\n",
       "0   20050N2.cif   0.000011\n",
       "0   14080N2.cif   0.000006\n",
       "0   20120N2.cif   0.000051\n",
       "0   21271N3.cif   0.000072\n",
       "0   15252N2.cif   0.000010\n",
       "\n",
       "[592 rows x 2 columns]"
      ]
     },
     "execution_count": 45,
     "metadata": {},
     "output_type": "execute_result"
    }
   ],
   "source": [
    "co2_df"
   ]
  }
 ],
 "metadata": {
  "kernelspec": {
   "display_name": "Python 3 (ipykernel)",
   "language": "python",
   "name": "python3"
  },
  "language_info": {
   "codemirror_mode": {
    "name": "ipython",
    "version": 3
   },
   "file_extension": ".py",
   "mimetype": "text/x-python",
   "name": "python",
   "nbconvert_exporter": "python",
   "pygments_lexer": "ipython3",
   "version": "3.8.10"
  }
 },
 "nbformat": 4,
 "nbformat_minor": 5
}
